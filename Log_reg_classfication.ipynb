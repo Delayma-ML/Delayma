{
 "cells": [
  {
   "cell_type": "code",
   "execution_count": 5,
   "metadata": {
    "collapsed": true
   },
   "outputs": [],
   "source": [
    "import numpy as np\n",
    "import pandas as pd\n",
    "from sklearn.decomposition import PCA\n",
    "import matplotlib.pyplot as plt\n"
   ]
  },
  {
   "cell_type": "code",
   "execution_count": 11,
   "outputs": [],
   "source": [
    "df = pd.read_csv('df_preprocessed.csv')\n",
    "df.head()\n",
    "x = df.drop(['DEP_DELAY'], axis=1)\n",
    "y = df['DEP_DELAY']"
   ],
   "metadata": {
    "collapsed": false
   }
  },
  {
   "cell_type": "markdown",
   "source": [
    "If delay is more than 15 minutes, it is considered as delayed\n",
    "1 ->delayed\n",
    "0 ->not delayed"
   ],
   "metadata": {
    "collapsed": false
   }
  },
  {
   "cell_type": "code",
   "execution_count": 17,
   "outputs": [
    {
     "data": {
      "text/plain": "0    24946\n1     3874\nName: DEP_DELAY, dtype: int64"
     },
     "execution_count": 17,
     "metadata": {},
     "output_type": "execute_result"
    }
   ],
   "source": [
    "df['DEP_DELAY'].value_counts()"
   ],
   "metadata": {
    "collapsed": false
   }
  },
  {
   "cell_type": "markdown",
   "source": [
    "PCA"
   ],
   "metadata": {
    "collapsed": false
   }
  },
  {
   "cell_type": "code",
   "execution_count": 18,
   "outputs": [
    {
     "data": {
      "text/plain": "<Figure size 432x288 with 1 Axes>",
      "image/png": "[encoded data removed]"
     },
     "metadata": {
      "needs_background": "light"
     },
     "output_type": "display_data"
    }
   ],
   "source": [
    "pca = PCA()\n",
    "pca.fit(x)\n",
    "cumsum = np.cumsum(pca.explained_variance_ratio_)\n",
    "plt.plot(cumsum)\n",
    "plt.xlabel('Number of components')\n",
    "plt.ylabel('Cumulative explained variance')\n",
    "plt.show()"
   ],
   "metadata": {
    "collapsed": false
   }
  },
  {
   "cell_type": "code",
   "execution_count": 19,
   "outputs": [
    {
     "name": "stdout",
     "output_type": "stream",
     "text": [
      "(28820, 4)\n",
      "<class 'numpy.ndarray'>\n"
     ]
    }
   ],
   "source": [
    "print(x.shape)\n",
    "print(type(x))"
   ],
   "metadata": {
    "collapsed": false
   }
  },
  {
   "cell_type": "markdown",
   "source": [
    "Taking 4 components"
   ],
   "metadata": {
    "collapsed": false
   }
  },
  {
   "cell_type": "code",
   "execution_count": 20,
   "outputs": [
    {
     "name": "stdout",
     "output_type": "stream",
     "text": [
      "<class 'numpy.ndarray'> <class 'pandas.core.series.Series'> <class 'numpy.ndarray'> <class 'pandas.core.series.Series'>\n",
      "torch.Size([5764, 4]) torch.Size([5764, 1]) torch.Size([23056, 4]) torch.Size([23056, 1])\n",
      "Epoch [1/50], Loss: 1.4931\n",
      "Epoch [2/50], Loss: 0.8478\n",
      "Epoch [3/50], Loss: 0.6542\n",
      "Epoch [4/50], Loss: 0.6002\n",
      "Epoch [5/50], Loss: 0.5663\n",
      "Epoch [6/50], Loss: 0.5429\n",
      "Epoch [7/50], Loss: 0.5244\n",
      "Epoch [8/50], Loss: 0.5094\n",
      "Epoch [9/50], Loss: 0.4973\n",
      "Epoch [10/50], Loss: 0.4877\n",
      "Epoch [11/50], Loss: 0.4801\n",
      "Epoch [12/50], Loss: 0.4739\n",
      "Epoch [13/50], Loss: 0.4685\n",
      "Epoch [14/50], Loss: 0.4634\n",
      "Epoch [15/50], Loss: 0.4585\n",
      "Epoch [16/50], Loss: 0.4533\n",
      "Epoch [17/50], Loss: 0.4485\n",
      "Epoch [18/50], Loss: 0.4444\n",
      "Epoch [19/50], Loss: 0.4413\n",
      "Epoch [20/50], Loss: 0.4387\n",
      "Epoch [21/50], Loss: 0.4363\n",
      "Epoch [22/50], Loss: 0.4343\n",
      "Epoch [23/50], Loss: 0.4326\n",
      "Epoch [24/50], Loss: 0.4308\n",
      "Epoch [25/50], Loss: 0.4293\n",
      "Epoch [26/50], Loss: 0.4277\n",
      "Epoch [27/50], Loss: 0.4264\n",
      "Epoch [28/50], Loss: 0.4251\n",
      "Epoch [29/50], Loss: 0.4239\n",
      "Epoch [30/50], Loss: 0.4227\n",
      "Epoch [31/50], Loss: 0.4216\n",
      "Epoch [32/50], Loss: 0.4206\n",
      "Epoch [33/50], Loss: 0.4195\n",
      "Epoch [34/50], Loss: 0.4185\n",
      "Epoch [35/50], Loss: 0.4175\n",
      "Epoch [36/50], Loss: 0.4162\n",
      "Epoch [37/50], Loss: 0.4149\n",
      "Epoch [38/50], Loss: 0.4137\n",
      "Epoch [39/50], Loss: 0.4127\n",
      "Epoch [40/50], Loss: 0.4115\n",
      "Epoch [41/50], Loss: 0.4101\n",
      "Epoch [42/50], Loss: 0.4087\n",
      "Epoch [43/50], Loss: 0.4068\n",
      "Epoch [44/50], Loss: 0.4045\n",
      "Epoch [45/50], Loss: 0.4016\n",
      "Epoch [46/50], Loss: 0.3973\n",
      "Epoch [47/50], Loss: 0.3915\n",
      "Epoch [48/50], Loss: 0.3859\n",
      "Epoch [49/50], Loss: 0.3806\n",
      "Epoch [50/50], Loss: 0.3759\n",
      "fc1.weight: tensor([[-0.3165,  0.2825, -0.4104,  0.3900],\n",
      "        [-0.1076, -0.1141, -0.0117,  0.1305],\n",
      "        [-0.4396,  0.4180,  0.3909,  0.1666],\n",
      "        [-0.0686,  0.3003,  0.1362, -0.1907],\n",
      "        [-0.4167,  0.0876,  0.2057, -0.0719],\n",
      "        [ 0.3222,  0.2723, -0.4516,  0.1775],\n",
      "        [ 0.4060, -0.2994, -0.4686,  0.3872],\n",
      "        [-0.0910, -0.4788,  0.4501, -0.4737],\n",
      "        [ 0.3158,  0.0089, -0.2260, -0.4609],\n",
      "        [-0.3162, -0.1978, -0.1714, -0.2402],\n",
      "        [ 0.3418,  0.4483,  0.0519,  0.0938],\n",
      "        [ 0.3505,  0.4503,  0.0135, -0.4632],\n",
      "        [-0.0337,  0.0452, -0.4327,  0.0095],\n",
      "        [ 0.1368, -0.1971, -0.0306, -0.0332],\n",
      "        [-0.3994, -0.0809,  0.2065,  0.1893],\n",
      "        [-0.3897,  0.0154,  0.0546, -0.3938]])\n",
      "fc1.bias: tensor([-0.3267,  0.1107, -0.1157,  0.1259, -0.0491, -0.2926,  0.1427,  0.4101,\n",
      "         0.3850,  0.1458,  0.1861,  0.0121, -0.1212,  0.4972,  0.3957,  0.1639])\n",
      "fc2.weight: tensor([[ 1.9808e-01, -3.5192e-02, -5.5649e-02,  6.8835e-04, -1.7543e-01,\n",
      "         -4.3282e-03, -8.1212e-02,  3.6963e-02, -1.3523e-01,  3.5279e-02,\n",
      "          1.2258e-01,  3.7608e-02,  8.9297e-02,  5.4695e-02,  1.2392e-01,\n",
      "         -3.8170e-02],\n",
      "        [ 6.1243e-02, -4.0665e-02, -1.9536e-01, -2.0490e-01,  1.9512e-02,\n",
      "         -1.8225e-01, -6.3295e-02,  9.6076e-02, -6.4022e-02,  9.8684e-02,\n",
      "         -2.0083e-03,  1.4364e-01,  2.7788e-02, -1.6827e-01, -2.1372e-01,\n",
      "          2.4628e-02],\n",
      "        [-1.9465e-02,  9.0045e-02,  1.3212e-01,  8.9831e-02, -1.6884e-01,\n",
      "         -1.5329e-01, -1.7987e-01, -2.7658e-02,  8.7078e-02, -4.0374e-02,\n",
      "         -2.3706e-02, -1.6148e-01, -7.4622e-02,  1.4591e-01, -2.3490e-01,\n",
      "         -1.4179e-01],\n",
      "        [ 2.2509e-03, -1.6142e-01,  4.8545e-03, -9.6640e-05,  6.1046e-02,\n",
      "         -8.7851e-02, -1.5101e-01, -2.3122e-01,  7.9225e-02,  1.7456e-01,\n",
      "          3.7469e-02,  8.0317e-02, -1.7010e-01, -7.7455e-02, -2.4155e-01,\n",
      "          9.4567e-02]])\n",
      "fc2.bias: tensor([ 0.1340, -0.0354, -0.2469, -0.1664])\n",
      "fc3.weight: tensor([[-0.0946,  0.1253, -0.0432,  0.3279]])\n",
      "fc3.bias: tensor([-0.5100])\n"
     ]
    },
    {
     "data": {
      "text/plain": "<Figure size 432x288 with 1 Axes>",
      "image/png": "[encoded data removed]"
     },
     "metadata": {
      "needs_background": "light"
     },
     "output_type": "display_data"
    }
   ],
   "source": [
    "import torch\n",
    "import torch.nn as nn\n",
    "import torch.optim as optim\n",
    "from torch.utils.data import TensorDataset, DataLoader\n",
    "from sklearn.model_selection import train_test_split\n",
    "\n",
    "\n",
    "pca = PCA(n_components=4)\n",
    "x = pca.fit_transform(x)\n",
    "\n",
    "X_train, X_test, y_train, y_test = train_test_split(x, y, test_size=0.2, random_state=42)\n",
    "# change to numpy\n",
    "print(type(X_train), type(y_train), type(X_test), type(y_test))\n",
    "# chnage to tensor\n",
    "y_train = y_train.to_numpy()\n",
    "y_test = y_test.to_numpy()\n",
    "X_train = torch.from_numpy(X_train).float()\n",
    "X_test = torch.from_numpy(X_test).float()\n",
    "y_test = torch.from_numpy(y_test).float().view(-1, 1)\n",
    "\n",
    "y_train = torch.from_numpy(y_train).float().view(-1, 1)\n",
    "\n",
    "print(X_test.shape, y_test.shape, X_train.shape, y_train.shape)\n",
    "\n",
    "# Define the neural network model\n",
    "class LogisticRegressionModel(nn.Module):\n",
    "    def __init__(self, input_size):\n",
    "        super(LogisticRegressionModel, self).__init__()\n",
    "        self.fc1 = nn.Linear(input_size, 16)\n",
    "        self.relu1 = nn.ReLU()\n",
    "        self.fc2 = nn.Linear(16, 4)\n",
    "        self.relu2 = nn.ReLU()\n",
    "        self.fc3 = nn.Linear(4, 1)\n",
    "        self.sigmoid = nn.Sigmoid()  # Sigmoid activation for binary classification\n",
    "\n",
    "    def forward(self, x):\n",
    "        x = self.relu1(self.fc1(x))\n",
    "        x = self.relu2(self.fc2(x))\n",
    "        x = self.fc3(x)\n",
    "        x = self.sigmoid(x)  # Apply sigmoid activation for binary classification\n",
    "        return x\n",
    "\n",
    "# Initialize the model\n",
    "model = LogisticRegressionModel(input_size=4)\n",
    "\n",
    "# Define loss function and optimizer\n",
    "criterion = nn.BCELoss()  # Binary Cross-Entropy loss for binary classification\n",
    "optimizer = optim.SGD(model.parameters(), lr=1e-5)  # Stochastic Gradient Descent\n",
    "\n",
    "# Prepare data using DataLoader\n",
    "batch_size = 16\n",
    "dataset = TensorDataset(X_train, y_train)\n",
    "dataloader = DataLoader(dataset, batch_size=batch_size, shuffle=True)\n",
    "\n",
    "# Training loop\n",
    "num_epochs = 50\n",
    "losses = []\n",
    "\n",
    "for epoch in range(num_epochs):\n",
    "    epoch_loss = 0.0\n",
    "\n",
    "    for batch_x, batch_y in dataloader:\n",
    "        # Forward pass\n",
    "        outputs = model(batch_x)\n",
    "\n",
    "        # Compute the binary cross-entropy loss\n",
    "        loss = criterion(outputs, batch_y)\n",
    "        epoch_loss += loss.item()\n",
    "\n",
    "        # Backpropagation and optimization\n",
    "        optimizer.zero_grad()\n",
    "        loss.backward()\n",
    "        optimizer.step()\n",
    "\n",
    "    # Append the average loss for this epoch to the list\n",
    "    losses.append(epoch_loss / len(dataloader))\n",
    "\n",
    "    # Print the loss at the end of each epoch\n",
    "    print(f'Epoch [{epoch + 1}/{num_epochs}], Loss: {losses[-1]:.4f}')\n",
    "\n",
    "# Print the final learned parameters\n",
    "for name, param in model.named_parameters():\n",
    "    if param.requires_grad:\n",
    "        print(f'{name}: {param.data}')\n",
    "\n",
    "# Optionally, plot the loss versus epoch\n",
    "import matplotlib.pyplot as plt\n",
    "plt.plot(range(1, num_epochs + 1), losses)\n",
    "plt.xlabel('Epoch')\n",
    "plt.ylabel('Loss')\n",
    "plt.title('Loss vs. Epoch')\n",
    "plt.grid(True)\n",
    "plt.show()\n"
   ],
   "metadata": {
    "collapsed": false
   }
  },
  {
   "cell_type": "code",
   "execution_count": 23,
   "outputs": [],
   "source": [
    "# save this model criterion and optimizer\n",
    "# torch.save({\n",
    "#             'epoch': num_epochs,\n",
    "#             'model_state_dict': model.state_dict(),\n",
    "#             'optimizer_state_dict': optimizer.state_dict(),\n",
    "#             'loss': criterion,\n",
    "#             }, \"model.pt\")\n",
    "\n",
    "torch.save(model.state_dict(), 'model.pt')\n",
    "# save the optimizer\n",
    "torch.save(optimizer.state_dict(), 'optimizer.pt')\n",
    "# save the criterion\n",
    "torch.save(criterion.state_dict(), 'criterion.pt')\n"
   ],
   "metadata": {
    "collapsed": false
   }
  },
  {
   "cell_type": "code",
   "execution_count": null,
   "outputs": [],
   "source": [],
   "metadata": {
    "collapsed": false
   }
  }
 ],
 "metadata": {
  "kernelspec": {
   "display_name": "Python 3",
   "language": "python",
   "name": "python3"
  },
  "language_info": {
   "codemirror_mode": {
    "name": "ipython",
    "version": 2
   },
   "file_extension": ".py",
   "mimetype": "text/x-python",
   "name": "python",
   "nbconvert_exporter": "python",
   "pygments_lexer": "ipython2",
   "version": "2.7.6"
  }
 },
 "nbformat": 4,
 "nbformat_minor": 0
}
