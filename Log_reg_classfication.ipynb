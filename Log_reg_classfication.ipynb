{
 "cells": [
  {
   "cell_type": "code",
   "execution_count": 43,
   "metadata": {
    "collapsed": true
   },
   "outputs": [],
   "source": [
    "import numpy as np\n",
    "import pandas as pd\n",
    "from sklearn.decomposition import PCA\n",
    "import matplotlib.pyplot as plt\n",
    "from sklearn.preprocessing import StandardScaler\n",
    "\n"
   ]
  },
  {
   "cell_type": "code",
   "execution_count": 45,
   "outputs": [],
   "source": [
    "df = pd.read_csv('df_preprocessed.csv')\n",
    "df.head()\n",
    "x = df.drop(['DEP_DELAY'], axis=1)\n",
    "y = df['DEP_DELAY']"
   ],
   "metadata": {
    "collapsed": false
   }
  },
  {
   "cell_type": "code",
   "execution_count": 45,
   "outputs": [],
   "source": [],
   "metadata": {
    "collapsed": false
   }
  },
  {
   "cell_type": "markdown",
   "source": [
    "If delay is more than 15 minutes, it is considered as delayed\n",
    "1 ->delayed\n",
    "0 ->not delayed"
   ],
   "metadata": {
    "collapsed": false
   }
  },
  {
   "cell_type": "code",
   "execution_count": 46,
   "outputs": [
    {
     "name": "stdout",
     "output_type": "stream",
     "text": [
      "0    24946\n",
      "1     3874\n",
      "Name: DEP_DELAY, dtype: int64\n"
     ]
    }
   ],
   "source": [
    "print(df['DEP_DELAY'].value_counts())"
   ],
   "metadata": {
    "collapsed": false
   }
  },
  {
   "cell_type": "code",
   "execution_count": 47,
   "outputs": [
    {
     "data": {
      "text/plain": "0.8655794587092297"
     },
     "execution_count": 47,
     "metadata": {},
     "output_type": "execute_result"
    }
   ],
   "source": [
    "24946/(3874+24946)"
   ],
   "metadata": {
    "collapsed": false
   }
  },
  {
   "cell_type": "markdown",
   "source": [
    "PCA"
   ],
   "metadata": {
    "collapsed": false
   }
  },
  {
   "cell_type": "code",
   "execution_count": 48,
   "outputs": [
    {
     "data": {
      "text/plain": "<Figure size 432x288 with 1 Axes>",
      "image/png": "[encoded data removed]"
     },
     "metadata": {
      "needs_background": "light"
     },
     "output_type": "display_data"
    }
   ],
   "source": [
    "pca = PCA()\n",
    "pca.fit(x)\n",
    "cumsum = np.cumsum(pca.explained_variance_ratio_)\n",
    "plt.plot(cumsum)\n",
    "plt.xlabel('Number of components')\n",
    "plt.ylabel('Cumulative explained variance')\n",
    "plt.show()"
   ],
   "metadata": {
    "collapsed": false
   }
  },
  {
   "cell_type": "code",
   "execution_count": 49,
   "outputs": [
    {
     "name": "stdout",
     "output_type": "stream",
     "text": [
      "(28820, 35)\n",
      "<class 'pandas.core.frame.DataFrame'>\n"
     ]
    }
   ],
   "source": [
    "print(x.shape)\n",
    "print(type(x))"
   ],
   "metadata": {
    "collapsed": false
   }
  },
  {
   "cell_type": "code",
   "execution_count": 50,
   "outputs": [],
   "source": [],
   "metadata": {
    "collapsed": false
   }
  },
  {
   "cell_type": "markdown",
   "source": [
    "Taking 4 components"
   ],
   "metadata": {
    "collapsed": false
   }
  },
  {
   "cell_type": "code",
   "execution_count": 53,
   "outputs": [
    {
     "name": "stdout",
     "output_type": "stream",
     "text": [
      "<class 'numpy.ndarray'> <class 'pandas.core.series.Series'> <class 'numpy.ndarray'> <class 'pandas.core.series.Series'>\n",
      "torch.Size([5764, 4]) torch.Size([5764, 1]) torch.Size([23056, 4]) torch.Size([23056, 1])\n",
      "Epoch [1/50], Loss: 0.8162\n",
      "Epoch [2/50], Loss: 0.7990\n",
      "Epoch [3/50], Loss: 0.7825\n",
      "Epoch [4/50], Loss: 0.7669\n",
      "Epoch [5/50], Loss: 0.7520\n",
      "Epoch [6/50], Loss: 0.7379\n",
      "Epoch [7/50], Loss: 0.7244\n",
      "Epoch [8/50], Loss: 0.7117\n",
      "Epoch [9/50], Loss: 0.6996\n",
      "Epoch [10/50], Loss: 0.6881\n",
      "Epoch [11/50], Loss: 0.6771\n",
      "Epoch [12/50], Loss: 0.6666\n",
      "Epoch [13/50], Loss: 0.6565\n",
      "Epoch [14/50], Loss: 0.6468\n",
      "Epoch [15/50], Loss: 0.6376\n",
      "Epoch [16/50], Loss: 0.6288\n",
      "Epoch [17/50], Loss: 0.6203\n",
      "Epoch [18/50], Loss: 0.6122\n",
      "Epoch [19/50], Loss: 0.6044\n",
      "Epoch [20/50], Loss: 0.5969\n",
      "Epoch [21/50], Loss: 0.5897\n",
      "Epoch [22/50], Loss: 0.5828\n",
      "Epoch [23/50], Loss: 0.5762\n",
      "Epoch [24/50], Loss: 0.5698\n",
      "Epoch [25/50], Loss: 0.5638\n",
      "Epoch [26/50], Loss: 0.5579\n",
      "Epoch [27/50], Loss: 0.5523\n",
      "Epoch [28/50], Loss: 0.5469\n",
      "Epoch [29/50], Loss: 0.5417\n",
      "Epoch [30/50], Loss: 0.5367\n",
      "Epoch [31/50], Loss: 0.5319\n",
      "Epoch [32/50], Loss: 0.5272\n",
      "Epoch [33/50], Loss: 0.5228\n",
      "Epoch [34/50], Loss: 0.5185\n",
      "Epoch [35/50], Loss: 0.5143\n",
      "Epoch [36/50], Loss: 0.5103\n",
      "Epoch [37/50], Loss: 0.5064\n",
      "Epoch [38/50], Loss: 0.5027\n",
      "Epoch [39/50], Loss: 0.4992\n",
      "Epoch [40/50], Loss: 0.4957\n",
      "Epoch [41/50], Loss: 0.4924\n",
      "Epoch [42/50], Loss: 0.4892\n",
      "Epoch [43/50], Loss: 0.4862\n",
      "Epoch [44/50], Loss: 0.4832\n",
      "Epoch [45/50], Loss: 0.4804\n",
      "Epoch [46/50], Loss: 0.4776\n",
      "Epoch [47/50], Loss: 0.4750\n",
      "Epoch [48/50], Loss: 0.4724\n",
      "Epoch [49/50], Loss: 0.4700\n",
      "Epoch [50/50], Loss: 0.4676\n",
      "fc1.weight: tensor([[-0.1832, -0.4424, -0.1696, -0.3511],\n",
      "        [-0.3523, -0.4092, -0.2850,  0.4558],\n",
      "        [-0.4381,  0.5125, -0.3557, -0.2889],\n",
      "        [-0.2293,  0.5107,  0.1841, -0.0936],\n",
      "        [ 0.2063,  0.1035, -0.5498, -0.1284],\n",
      "        [ 0.4499, -0.1246, -0.2696, -0.2792],\n",
      "        [-0.3524, -0.4265,  0.3563,  0.4245],\n",
      "        [-0.2644,  0.0604, -0.0218,  0.2906],\n",
      "        [ 0.2574, -0.5020,  0.5005, -0.0725],\n",
      "        [ 0.3149,  0.3452, -0.3893,  0.5439],\n",
      "        [ 0.3496, -0.1278, -0.3595,  0.0520],\n",
      "        [-0.0154, -0.0559, -0.1681, -0.0670],\n",
      "        [ 0.3519, -0.0450,  0.1867,  0.4289],\n",
      "        [-0.0649,  0.0707,  0.4498,  0.3374],\n",
      "        [-0.1753,  0.3318,  0.4206,  0.4178],\n",
      "        [ 0.3024,  0.4521,  0.4090, -0.5086]])\n",
      "fc1.bias: tensor([ 0.0773,  0.3814,  0.1643, -0.4160,  0.2111,  0.0691,  0.0163,  0.2586,\n",
      "         0.3059, -0.0925, -0.0712,  0.4233,  0.3836,  0.4005,  0.1652, -0.1379])\n",
      "fc2.weight: tensor([[ 3.6929e-01, -2.8499e-02,  3.4336e-01,  3.0728e-01,  2.9242e-03,\n",
      "         -1.6892e-01,  9.9402e-02,  1.1405e-02, -1.7853e-01,  4.8973e-01,\n",
      "          2.0433e-01, -1.4116e-02,  7.0516e-02, -9.4497e-02, -7.5575e-02,\n",
      "          4.7308e-01],\n",
      "        [-5.3398e-01,  4.7351e-01, -4.1202e-01, -4.4593e-01,  2.8327e-01,\n",
      "          2.8234e-01, -4.5482e-01,  3.3428e-01,  9.5669e-02, -3.8104e-01,\n",
      "          1.0237e-01, -2.7662e-01,  2.6080e-01, -2.9246e-01, -1.7906e-01,\n",
      "          2.3090e-01],\n",
      "        [ 4.4886e-01, -1.7210e-01,  1.1017e-01,  1.4447e-01,  2.1940e-01,\n",
      "         -2.3275e-01,  5.2123e-01,  2.9096e-01,  1.4570e-01, -1.4846e-01,\n",
      "         -3.8128e-01,  5.4586e-01,  2.9269e-01, -2.5275e-01,  4.5949e-01,\n",
      "         -1.8941e-01],\n",
      "        [-8.5874e-02,  4.5385e-02, -2.3143e-01, -4.3773e-01,  3.0607e-01,\n",
      "         -2.7201e-01, -1.8375e-01, -1.6383e-04, -1.9821e-01,  3.5696e-01,\n",
      "          4.0523e-01,  1.2114e-01,  4.1305e-01,  1.1483e-01,  5.3775e-01,\n",
      "         -2.0690e-02]])\n",
      "fc2.bias: tensor([0.0707, 0.0501, 0.0007, 0.2037])\n",
      "fc3.weight: tensor([[ 0.6928,  0.8284, -0.6108, -0.7834]])\n",
      "fc3.bias: tensor([-0.5502])\n"
     ]
    },
    {
     "data": {
      "text/plain": "<Figure size 432x288 with 1 Axes>",
      "image/png": "[encoded data removed]"
     },
     "metadata": {
      "needs_background": "light"
     },
     "output_type": "display_data"
    }
   ],
   "source": [
    "import torch\n",
    "import torch.nn as nn\n",
    "import torch.optim as optim\n",
    "from torch.utils.data import TensorDataset, DataLoader\n",
    "from sklearn.model_selection import train_test_split\n",
    "\n",
    "\n",
    "pca = PCA(n_components=4)\n",
    "x = pca.fit_transform(x)\n",
    "\n",
    "X_train, X_test, y_train, y_test = train_test_split(x, y, test_size=0.2, random_state=42)\n",
    "# standardize the data\n",
    "scaler = StandardScaler()\n",
    "X_train = scaler.fit_transform(X_train)\n",
    "X_test = scaler.transform(X_test)\n",
    "\n",
    "# change to numpy\n",
    "print(type(X_train), type(y_train), type(X_test), type(y_test))\n",
    "# chnage to tensor\n",
    "y_train = y_train.to_numpy()\n",
    "y_test = y_test.to_numpy()\n",
    "X_train = torch.from_numpy(X_train).float()\n",
    "X_test = torch.from_numpy(X_test).float()\n",
    "y_test = torch.from_numpy(y_test).float().view(-1, 1)\n",
    "\n",
    "y_train = torch.from_numpy(y_train).float().view(-1, 1)\n",
    "\n",
    "print(X_test.shape, y_test.shape, X_train.shape, y_train.shape)\n",
    "\n",
    "# Define the neural network model\n",
    "class LogisticRegressionModel(nn.Module):\n",
    "    def __init__(self, input_size):\n",
    "        super(LogisticRegressionModel, self).__init__()\n",
    "        self.fc1 = nn.Linear(input_size, 16)\n",
    "        self.relu1 = nn.ReLU()\n",
    "        self.fc2 = nn.Linear(16, 4)\n",
    "        self.relu2 = nn.ReLU()\n",
    "        self.fc3 = nn.Linear(4, 1)\n",
    "        self.sigmoid = nn.Sigmoid()  # Sigmoid activation for binary classification\n",
    "    #     initialize weights\n",
    "        nn.init.xavier_uniform_(self.fc1.weight)\n",
    "        nn.init.xavier_uniform_(self.fc2.weight)\n",
    "        nn.init.xavier_uniform_(self.fc3.weight)\n",
    "\n",
    "    def forward(self, x):\n",
    "        x = self.relu1(self.fc1(x))\n",
    "        x = self.relu2(self.fc2(x))\n",
    "        x = self.fc3(x)\n",
    "        x = self.sigmoid(x)  # Apply sigmoid activation for binary classification\n",
    "        return x\n",
    "\n",
    "# Initialize the model\n",
    "model = LogisticRegressionModel(input_size=4)\n",
    "\n",
    "# Define loss function and optimizer\n",
    "criterion = nn.BCELoss()  # Binary Cross-Entropy loss for binary classification\n",
    "optimizer = optim.SGD(model.parameters(), lr=1e-5)  # Stochastic Gradient Descent\n",
    "\n",
    "# Prepare data using DataLoader\n",
    "batch_size = 16\n",
    "dataset = TensorDataset(X_train, y_train)\n",
    "dataloader = DataLoader(dataset, batch_size=batch_size, shuffle=True)\n",
    "\n",
    "# Training loop\n",
    "num_epochs = 50\n",
    "losses = []\n",
    "\n",
    "for epoch in range(num_epochs):\n",
    "    epoch_loss = 0.0\n",
    "\n",
    "    for batch_x, batch_y in dataloader:\n",
    "        # Forward pass\n",
    "        outputs = model(batch_x)\n",
    "\n",
    "        # Compute the binary cross-entropy loss\n",
    "        loss = criterion(outputs, batch_y)\n",
    "        epoch_loss += loss.item()\n",
    "\n",
    "        # Backpropagation and optimization\n",
    "        optimizer.zero_grad()\n",
    "        loss.backward()\n",
    "        optimizer.step()\n",
    "\n",
    "    # Append the average loss for this epoch to the list\n",
    "    losses.append(epoch_loss / len(dataloader))\n",
    "\n",
    "    # Print the loss at the end of each epoch\n",
    "    print(f'Epoch [{epoch + 1}/{num_epochs}], Loss: {losses[-1]:.4f}')\n",
    "\n",
    "# Print the final learned parameters\n",
    "for name, param in model.named_parameters():\n",
    "    if param.requires_grad:\n",
    "        print(f'{name}: {param.data}')\n",
    "\n",
    "# Optionally, plot the loss versus epoch\n",
    "import matplotlib.pyplot as plt\n",
    "plt.plot(range(1, num_epochs + 1), losses)\n",
    "plt.xlabel('Epoch')\n",
    "plt.ylabel('Loss')\n",
    "plt.title('Loss vs. Epoch')\n",
    "plt.grid(True)\n",
    "plt.show()\n"
   ],
   "metadata": {
    "collapsed": false
   }
  },
  {
   "cell_type": "code",
   "execution_count": 57,
   "outputs": [],
   "source": [
    "# save this model criterion and optimizer\n",
    "# torch.save({\n",
    "#             'epoch': num_epochs,\n",
    "#             'model_state_dict': model.state_dict(),\n",
    "#             'optimizer_state_dict': optimizer.state_dict(),\n",
    "#             'loss': criterion,\n",
    "#             }, \"model.pt\")\n",
    "\n",
    "torch.save(model.state_dict(), 'model2.pt')\n",
    "# save the optimizer\n",
    "torch.save(optimizer.state_dict(), 'optimizer2.pt')\n",
    "# save the criterion\n",
    "torch.save(criterion.state_dict(), 'criterion2.pt')\n"
   ],
   "metadata": {
    "collapsed": false
   }
  },
  {
   "cell_type": "code",
   "execution_count": 54,
   "outputs": [
    {
     "name": "stdout",
     "output_type": "stream",
     "text": [
      "Loss: 0.4737\n",
      "Accuracy: 0.8685\n"
     ]
    }
   ],
   "source": [
    "# test the model\n",
    "y_pred = model(X_test)\n",
    "#calculate bcross entropy loss\n",
    "loss = criterion(y_pred, y_test)\n",
    "print(f'Loss: {loss.item():.4f}')\n",
    "#accuracy of the model\n",
    "y_pred = torch.round(y_pred)\n",
    "correct = (y_pred == y_test).sum().item()\n",
    "accuracy = correct / len(y_test)\n",
    "print(f'Accuracy: {accuracy:.4f}')"
   ],
   "metadata": {
    "collapsed": false
   }
  },
  {
   "cell_type": "code",
   "execution_count": 56,
   "outputs": [
    {
     "name": "stdout",
     "output_type": "stream",
     "text": [
      "Precision: 1.0000, Recall: 0.0417\n",
      "F1 score: 0.0801\n",
      "Confusion matrix:\n",
      "[[4973    0]\n",
      " [ 758   33]]\n"
     ]
    }
   ],
   "source": [
    "#find recall and precision\n",
    "from sklearn.metrics import precision_score, recall_score\n",
    "y_pred = y_pred.detach().numpy()\n",
    "y_test = y_test.detach().numpy()\n",
    "precision = precision_score(y_test, y_pred)\n",
    "recall = recall_score(y_test, y_pred)\n",
    "print(f'Precision: {precision:.4f}, Recall: {recall:.4f}')\n",
    "# find f1 score and confusion matrix\n",
    "from sklearn.metrics import f1_score, confusion_matrix\n",
    "f1 = f1_score(y_test, y_pred)\n",
    "print(f'F1 score: {f1:.4f}')\n",
    "cm = confusion_matrix(y_test, y_pred)\n",
    "print(f'Confusion matrix:\\n{cm}')\n",
    "\n"
   ],
   "metadata": {
    "collapsed": false
   }
  },
  {
   "cell_type": "code",
   "execution_count": null,
   "outputs": [],
   "source": [],
   "metadata": {
    "collapsed": false
   }
  }
 ],
 "metadata": {
  "kernelspec": {
   "display_name": "Python 3",
   "language": "python",
   "name": "python3"
  },
  "language_info": {
   "codemirror_mode": {
    "name": "ipython",
    "version": 2
   },
   "file_extension": ".py",
   "mimetype": "text/x-python",
   "name": "python",
   "nbconvert_exporter": "python",
   "pygments_lexer": "ipython2",
   "version": "2.7.6"
  }
 },
 "nbformat": 4,
 "nbformat_minor": 0
}
