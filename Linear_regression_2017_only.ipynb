{
 "cells": [
  {
   "cell_type": "code",
   "execution_count": 145,
   "metadata": {
    "collapsed": true
   },
   "outputs": [],
   "source": [
    "import numpy as np\n",
    "import pandas as pd\n",
    "from sklearn.linear_model import LinearRegression\n",
    "from sklearn.model_selection import train_test_split\n",
    "from sklearn import metrics\n",
    "from sklearn.metrics import mean_squared_error\n",
    "import seaborn as sns\n"
   ]
  },
  {
   "cell_type": "code",
   "execution_count": 146,
   "outputs": [
    {
     "data": {
      "text/plain": "      FL_DATE OP_CARRIER  OP_CARRIER_FL_NUM ORIGIN DEST  CRS_DEP_TIME  \\\n0  2017-01-01         AA                  1    JFK  LAX           800   \n1  2017-01-01         AA                  2    LAX  JFK           900   \n2  2017-01-01         AA                  4    LAX  JFK          1130   \n3  2017-01-01         AA                  5    DFW  HNL          1135   \n4  2017-01-01         AA                  6    OGG  DFW          1855   \n\n   DEP_TIME  DEP_DELAY  TAXI_OUT  WHEELS_OFF  ...  CRS_ELAPSED_TIME  \\\n0     831.0       31.0      25.0       856.0  ...             402.0   \n1     934.0       34.0      34.0      1008.0  ...             327.0   \n2    1221.0       51.0      20.0      1241.0  ...             328.0   \n3    1252.0       77.0      19.0      1311.0  ...             517.0   \n4    1855.0        0.0      16.0      1911.0  ...             425.0   \n\n   ACTUAL_ELAPSED_TIME  AIR_TIME  DISTANCE  CARRIER_DELAY  WEATHER_DELAY  \\\n0                398.0     347.0    2475.0           27.0            0.0   \n1                335.0     289.0    2475.0           34.0            0.0   \n2                319.0     284.0    2475.0            7.0            0.0   \n3                537.0     513.0    3784.0           77.0            0.0   \n4                467.0     440.0    3711.0            0.0            0.0   \n\n  NAS_DELAY  SECURITY_DELAY  LATE_AIRCRAFT_DELAY  Unnamed: 27  \n0       0.0             0.0                  0.0          NaN  \n1       8.0             0.0                  0.0          NaN  \n2       0.0             0.0                 35.0          NaN  \n3      20.0             0.0                  0.0          NaN  \n4      42.0             0.0                  0.0          NaN  \n\n[5 rows x 28 columns]",
      "text/html": "<div>\n<style scoped>\n    .dataframe tbody tr th:only-of-type {\n        vertical-align: middle;\n    }\n\n    .dataframe tbody tr th {\n        vertical-align: top;\n    }\n\n    .dataframe thead th {\n        text-align: right;\n    }\n</style>\n<table border=\"1\" class=\"dataframe\">\n  <thead>\n    <tr style=\"text-align: right;\">\n      <th></th>\n      <th>FL_DATE</th>\n      <th>OP_CARRIER</th>\n      <th>OP_CARRIER_FL_NUM</th>\n      <th>ORIGIN</th>\n      <th>DEST</th>\n      <th>CRS_DEP_TIME</th>\n      <th>DEP_TIME</th>\n      <th>DEP_DELAY</th>\n      <th>TAXI_OUT</th>\n      <th>WHEELS_OFF</th>\n      <th>...</th>\n      <th>CRS_ELAPSED_TIME</th>\n      <th>ACTUAL_ELAPSED_TIME</th>\n      <th>AIR_TIME</th>\n      <th>DISTANCE</th>\n      <th>CARRIER_DELAY</th>\n      <th>WEATHER_DELAY</th>\n      <th>NAS_DELAY</th>\n      <th>SECURITY_DELAY</th>\n      <th>LATE_AIRCRAFT_DELAY</th>\n      <th>Unnamed: 27</th>\n    </tr>\n  </thead>\n  <tbody>\n    <tr>\n      <th>0</th>\n      <td>2017-01-01</td>\n      <td>AA</td>\n      <td>1</td>\n      <td>JFK</td>\n      <td>LAX</td>\n      <td>800</td>\n      <td>831.0</td>\n      <td>31.0</td>\n      <td>25.0</td>\n      <td>856.0</td>\n      <td>...</td>\n      <td>402.0</td>\n      <td>398.0</td>\n      <td>347.0</td>\n      <td>2475.0</td>\n      <td>27.0</td>\n      <td>0.0</td>\n      <td>0.0</td>\n      <td>0.0</td>\n      <td>0.0</td>\n      <td>NaN</td>\n    </tr>\n    <tr>\n      <th>1</th>\n      <td>2017-01-01</td>\n      <td>AA</td>\n      <td>2</td>\n      <td>LAX</td>\n      <td>JFK</td>\n      <td>900</td>\n      <td>934.0</td>\n      <td>34.0</td>\n      <td>34.0</td>\n      <td>1008.0</td>\n      <td>...</td>\n      <td>327.0</td>\n      <td>335.0</td>\n      <td>289.0</td>\n      <td>2475.0</td>\n      <td>34.0</td>\n      <td>0.0</td>\n      <td>8.0</td>\n      <td>0.0</td>\n      <td>0.0</td>\n      <td>NaN</td>\n    </tr>\n    <tr>\n      <th>2</th>\n      <td>2017-01-01</td>\n      <td>AA</td>\n      <td>4</td>\n      <td>LAX</td>\n      <td>JFK</td>\n      <td>1130</td>\n      <td>1221.0</td>\n      <td>51.0</td>\n      <td>20.0</td>\n      <td>1241.0</td>\n      <td>...</td>\n      <td>328.0</td>\n      <td>319.0</td>\n      <td>284.0</td>\n      <td>2475.0</td>\n      <td>7.0</td>\n      <td>0.0</td>\n      <td>0.0</td>\n      <td>0.0</td>\n      <td>35.0</td>\n      <td>NaN</td>\n    </tr>\n    <tr>\n      <th>3</th>\n      <td>2017-01-01</td>\n      <td>AA</td>\n      <td>5</td>\n      <td>DFW</td>\n      <td>HNL</td>\n      <td>1135</td>\n      <td>1252.0</td>\n      <td>77.0</td>\n      <td>19.0</td>\n      <td>1311.0</td>\n      <td>...</td>\n      <td>517.0</td>\n      <td>537.0</td>\n      <td>513.0</td>\n      <td>3784.0</td>\n      <td>77.0</td>\n      <td>0.0</td>\n      <td>20.0</td>\n      <td>0.0</td>\n      <td>0.0</td>\n      <td>NaN</td>\n    </tr>\n    <tr>\n      <th>4</th>\n      <td>2017-01-01</td>\n      <td>AA</td>\n      <td>6</td>\n      <td>OGG</td>\n      <td>DFW</td>\n      <td>1855</td>\n      <td>1855.0</td>\n      <td>0.0</td>\n      <td>16.0</td>\n      <td>1911.0</td>\n      <td>...</td>\n      <td>425.0</td>\n      <td>467.0</td>\n      <td>440.0</td>\n      <td>3711.0</td>\n      <td>0.0</td>\n      <td>0.0</td>\n      <td>42.0</td>\n      <td>0.0</td>\n      <td>0.0</td>\n      <td>NaN</td>\n    </tr>\n  </tbody>\n</table>\n<p>5 rows × 28 columns</p>\n</div>"
     },
     "execution_count": 146,
     "metadata": {},
     "output_type": "execute_result"
    }
   ],
   "source": [
    "\n",
    "df = pd.read_csv('2017.csv')\n",
    "df.head()"
   ],
   "metadata": {
    "collapsed": false
   }
  },
  {
   "cell_type": "code",
   "execution_count": 147,
   "outputs": [
    {
     "name": "stdout",
     "output_type": "stream",
     "text": [
      "Number of unique op_carries:  12\n"
     ]
    },
    {
     "data": {
      "text/plain": "WN    1329444\nDL     923560\nAA     896348\nOO     706527\nUA     584481\nEV     339541\nB6     298654\nAS     185068\nNK     156818\nF9     103027\nHA      80172\nVX      70981\nName: OP_CARRIER, dtype: int64"
     },
     "execution_count": 147,
     "metadata": {},
     "output_type": "execute_result"
    }
   ],
   "source": [
    "print(\"Number of unique op_carries: \", len(df['OP_CARRIER'].unique()))\n",
    "df['OP_CARRIER'].value_counts()"
   ],
   "metadata": {
    "collapsed": false
   }
  },
  {
   "cell_type": "code",
   "execution_count": 148,
   "outputs": [
    {
     "data": {
      "text/plain": "AA    70981\nAS    70981\nB6    70981\nDL    70981\nEV    70981\nF9    70981\nHA    70981\nNK    70981\nOO    70981\nUA    70981\nVX    70981\nWN    70981\nName: OP_CARRIER, dtype: int64"
     },
     "execution_count": 148,
     "metadata": {},
     "output_type": "execute_result"
    }
   ],
   "source": [
    "# take 70981 samples from each carrier\n",
    "df = df.groupby('OP_CARRIER').apply(lambda x: x.sample(n=70981, random_state=1))\n",
    "df['OP_CARRIER'].value_counts()"
   ],
   "metadata": {
    "collapsed": false
   }
  },
  {
   "cell_type": "code",
   "execution_count": 149,
   "outputs": [],
   "source": [
    "df['FL_DAY'] = df['FL_DATE'].map(lambda x: x.split('-')[2])\n",
    "df['FL_MONTH'] = df['FL_DATE'].map(lambda x: x.split('-')[1])\n",
    "df['FL_YEAR'] = df['FL_DATE'].map(lambda x: x.split('-')[0])\n",
    "df['FL_YEAR'] = df['FL_YEAR'].astype(int)\n",
    "df['FL_MONTH'] = df['FL_MONTH'].astype(int)\n",
    "df['FL_DAY'] = df['FL_DAY'].astype(int)\n",
    "df = df.dropna(subset=['ARR_TIME', 'DEP_TIME', 'DEP_DELAY', 'ARR_DELAY', 'CRS_DEP_TIME', 'CRS_ARR_TIME'])\n",
    "df['CRS_DEP_HOUR'] = df['CRS_DEP_TIME'].map(lambda x: int(x/100))\n",
    "df['CRS_DEP_MIN'] = df['CRS_DEP_TIME'].map(lambda x: int(x%100))\n",
    "# split the DEP_TIME into hours and minutes\n",
    "df['DEP_TIME_HOUR'] = df['DEP_TIME'].map(lambda x: int(x/100))\n",
    "df['DEP_TIME_MIN'] = df['DEP_TIME'].map(lambda x: int(x%100))\n",
    "# split the WHEELS_OFF into hours and minutes\n",
    "df['WHEELS_OFF_HOUR'] = df['WHEELS_OFF'].map(lambda x: int(x/100))\n",
    "df['WHEELS_OFF_MIN'] = df['WHEELS_OFF'].map(lambda x: int(x%100))\n",
    "# split the WHEELS_ON into hours and minutes\n",
    "df['WHEELS_ON_HOUR'] = df['WHEELS_ON'].map(lambda x: int(x/100))\n",
    "df['WHEELS_ON_MIN'] = df['WHEELS_ON'].map(lambda x: int(x%100))\n",
    "# split the CRS_ARR_TIME into hours and minutes\n",
    "df['CRS_ARR_HOUR'] = df['CRS_ARR_TIME'].map(lambda x: int(x/100))\n",
    "df['CRS_ARR_MIN'] = df['CRS_ARR_TIME'].map(lambda x: int(x%100))\n",
    "# split the ARR_TIME into hours and minutes\n",
    "df['ARR_TIME_HOUR'] = df['ARR_TIME'].map(lambda x: int(x/100))\n",
    "df['ARR_TIME_MIN'] = df['ARR_TIME'].map(lambda x: int(x%100))\n",
    "# drop the columns that are not required- CRS_DEP_TIME, DEP_TIME, WHEELS_OFF, WHEELS_ON, CRS_ARR_TIME, ARR_TIME\n",
    "df = df.drop(columns=['CRS_DEP_TIME', 'DEP_TIME', 'WHEELS_OFF', 'WHEELS_ON', 'CRS_ARR_TIME', 'ARR_TIME'])\n",
    "\n",
    "\n"
   ],
   "metadata": {
    "collapsed": false
   }
  },
  {
   "cell_type": "code",
   "execution_count": 150,
   "outputs": [],
   "source": [
    "def encode(data, col, max_val):\n",
    "    data[col + '_sin'] = np.sin(2 * np.pi * data[col]/max_val)\n",
    "    data[col + '_cos'] = np.cos(2 * np.pi * data[col]/max_val)\n",
    "    return data"
   ],
   "metadata": {
    "collapsed": false
   }
  },
  {
   "cell_type": "code",
   "execution_count": 151,
   "outputs": [],
   "source": [
    "df = encode(df,'CRS_DEP_HOUR', 24)\n",
    "df = encode(df,'CRS_DEP_MIN', 60)\n",
    "df = encode(df,'DEP_TIME_HOUR', 24)\n",
    "df = encode(df,'DEP_TIME_MIN', 60)\n",
    "df = encode(df,'WHEELS_OFF_HOUR', 24)\n",
    "df = encode(df,'WHEELS_OFF_MIN', 60)\n",
    "df = encode(df,'WHEELS_ON_HOUR', 24)\n",
    "df = encode(df,'WHEELS_ON_MIN', 60)\n",
    "df = encode(df,'CRS_ARR_HOUR', 24)\n",
    "df = encode(df,'CRS_ARR_MIN', 60)\n",
    "df = encode(df,'ARR_TIME_HOUR', 24)\n",
    "df = encode(df,'ARR_TIME_MIN', 60)\n",
    "\n",
    "df['FL_MONTH'] = df['FL_MONTH']-1\n",
    "df['FL_DAY'] = df['FL_DAY']-1\n",
    "df = encode(df,'FL_MONTH', 12)\n",
    "df = encode(df,'FL_DAY', 31)"
   ],
   "metadata": {
    "collapsed": false
   }
  },
  {
   "cell_type": "code",
   "execution_count": 152,
   "outputs": [],
   "source": [
    "df = df.drop(columns=['CRS_DEP_HOUR', 'CRS_DEP_MIN', 'DEP_TIME_HOUR', 'DEP_TIME_MIN', 'WHEELS_OFF_HOUR', 'WHEELS_OFF_MIN', 'WHEELS_ON_HOUR', 'WHEELS_ON_MIN', 'CRS_ARR_HOUR', 'CRS_ARR_MIN', 'ARR_TIME_HOUR', 'ARR_TIME_MIN', 'FL_MONTH', 'FL_DAY'])\n",
    "\n"
   ],
   "metadata": {
    "collapsed": false
   }
  },
  {
   "cell_type": "code",
   "execution_count": 153,
   "outputs": [
    {
     "name": "stdout",
     "output_type": "stream",
     "text": [
      "FL_DATE                     0\n",
      "OP_CARRIER                  0\n",
      "OP_CARRIER_FL_NUM           0\n",
      "ORIGIN                      0\n",
      "DEST                        0\n",
      "DEP_DELAY                   0\n",
      "TAXI_OUT                    0\n",
      "TAXI_IN                     0\n",
      "ARR_DELAY                   0\n",
      "CANCELLED                   0\n",
      "CANCELLATION_CODE      836592\n",
      "DIVERTED                    0\n",
      "CRS_ELAPSED_TIME            0\n",
      "ACTUAL_ELAPSED_TIME         0\n",
      "AIR_TIME                    0\n",
      "DISTANCE                    0\n",
      "CARRIER_DELAY          675025\n",
      "WEATHER_DELAY          675025\n",
      "NAS_DELAY              675025\n",
      "SECURITY_DELAY         675025\n",
      "LATE_AIRCRAFT_DELAY    675025\n",
      "Unnamed: 27            836592\n",
      "FL_YEAR                     0\n",
      "CRS_DEP_HOUR_sin            0\n",
      "CRS_DEP_HOUR_cos            0\n",
      "CRS_DEP_MIN_sin             0\n",
      "CRS_DEP_MIN_cos             0\n",
      "DEP_TIME_HOUR_sin           0\n",
      "DEP_TIME_HOUR_cos           0\n",
      "DEP_TIME_MIN_sin            0\n",
      "DEP_TIME_MIN_cos            0\n",
      "WHEELS_OFF_HOUR_sin         0\n",
      "WHEELS_OFF_HOUR_cos         0\n",
      "WHEELS_OFF_MIN_sin          0\n",
      "WHEELS_OFF_MIN_cos          0\n",
      "WHEELS_ON_HOUR_sin          0\n",
      "WHEELS_ON_HOUR_cos          0\n",
      "WHEELS_ON_MIN_sin           0\n",
      "WHEELS_ON_MIN_cos           0\n",
      "CRS_ARR_HOUR_sin            0\n",
      "CRS_ARR_HOUR_cos            0\n",
      "CRS_ARR_MIN_sin             0\n",
      "CRS_ARR_MIN_cos             0\n",
      "ARR_TIME_HOUR_sin           0\n",
      "ARR_TIME_HOUR_cos           0\n",
      "ARR_TIME_MIN_sin            0\n",
      "ARR_TIME_MIN_cos            0\n",
      "FL_MONTH_sin                0\n",
      "FL_MONTH_cos                0\n",
      "FL_DAY_sin                  0\n",
      "FL_DAY_cos                  0\n",
      "dtype: int64\n",
      "FL_DATE                     0\n",
      "OP_CARRIER                  0\n",
      "OP_CARRIER_FL_NUM           0\n",
      "ORIGIN                      0\n",
      "DEST                        0\n",
      "DEP_DELAY                   0\n",
      "TAXI_OUT                    0\n",
      "TAXI_IN                     0\n",
      "ARR_DELAY                   0\n",
      "CANCELLED                   0\n",
      "CANCELLATION_CODE      836592\n",
      "DIVERTED                    0\n",
      "CRS_ELAPSED_TIME            0\n",
      "ACTUAL_ELAPSED_TIME         0\n",
      "AIR_TIME                    0\n",
      "DISTANCE                    0\n",
      "CARRIER_DELAY               0\n",
      "WEATHER_DELAY               0\n",
      "NAS_DELAY                   0\n",
      "SECURITY_DELAY              0\n",
      "LATE_AIRCRAFT_DELAY         0\n",
      "Unnamed: 27            836592\n",
      "FL_YEAR                     0\n",
      "CRS_DEP_HOUR_sin            0\n",
      "CRS_DEP_HOUR_cos            0\n",
      "CRS_DEP_MIN_sin             0\n",
      "CRS_DEP_MIN_cos             0\n",
      "DEP_TIME_HOUR_sin           0\n",
      "DEP_TIME_HOUR_cos           0\n",
      "DEP_TIME_MIN_sin            0\n",
      "DEP_TIME_MIN_cos            0\n",
      "WHEELS_OFF_HOUR_sin         0\n",
      "WHEELS_OFF_HOUR_cos         0\n",
      "WHEELS_OFF_MIN_sin          0\n",
      "WHEELS_OFF_MIN_cos          0\n",
      "WHEELS_ON_HOUR_sin          0\n",
      "WHEELS_ON_HOUR_cos          0\n",
      "WHEELS_ON_MIN_sin           0\n",
      "WHEELS_ON_MIN_cos           0\n",
      "CRS_ARR_HOUR_sin            0\n",
      "CRS_ARR_HOUR_cos            0\n",
      "CRS_ARR_MIN_sin             0\n",
      "CRS_ARR_MIN_cos             0\n",
      "ARR_TIME_HOUR_sin           0\n",
      "ARR_TIME_HOUR_cos           0\n",
      "ARR_TIME_MIN_sin            0\n",
      "ARR_TIME_MIN_cos            0\n",
      "FL_MONTH_sin                0\n",
      "FL_MONTH_cos                0\n",
      "FL_DAY_sin                  0\n",
      "FL_DAY_cos                  0\n",
      "dtype: int64\n"
     ]
    }
   ],
   "source": [
    "print(df.isnull().sum())\n",
    "df['CARRIER_DELAY'] = df['CARRIER_DELAY'].fillna(0)\n",
    "df['WEATHER_DELAY'] = df['WEATHER_DELAY'].fillna(0)\n",
    "df['NAS_DELAY'] = df['NAS_DELAY'].fillna(0)\n",
    "df['SECURITY_DELAY'] = df['SECURITY_DELAY'].fillna(0)\n",
    "df['LATE_AIRCRAFT_DELAY'] = df['LATE_AIRCRAFT_DELAY'].fillna(0)\n",
    "print(df.isnull().sum())\n"
   ],
   "metadata": {
    "collapsed": false
   }
  },
  {
   "cell_type": "code",
   "execution_count": 154,
   "outputs": [
    {
     "name": "stdout",
     "output_type": "stream",
     "text": [
      "(836592, 48)\n"
     ]
    },
    {
     "data": {
      "text/plain": "                   OP_CARRIER ORIGIN DEST  DEP_DELAY  TAXI_OUT  TAXI_IN  \\\nOP_CARRIER                                                                \nAA         1389498         AA    PHX  STL       -6.0      21.0      4.0   \n           5204087         AA    CLT  DEN       -5.0      16.0      8.0   \n           3188972         AA    DFW  TUL       -6.0      16.0      4.0   \n           2306485         AA    DFW  ELP       50.0      23.0      3.0   \n           4475154         AA    ALB  CLT       -7.0       9.0      5.0   \n\n                    ARR_DELAY  CANCELLED  DIVERTED  CRS_ELAPSED_TIME  ...  \\\nOP_CARRIER                                                            ...   \nAA         1389498      -17.0        0.0       0.0             178.0  ...   \n           5204087      -26.0        0.0       0.0             235.0  ...   \n           3188972       -2.0        0.0       0.0              62.0  ...   \n           2306485       49.0        0.0       0.0             105.0  ...   \n           4475154      -21.0        0.0       0.0             125.0  ...   \n\n                    CRS_ARR_MIN_sin  CRS_ARR_MIN_cos  ARR_TIME_HOUR_sin  \\\nOP_CARRIER                                                                \nAA         1389498        -0.994522        -0.104528          -0.258819   \n           5204087        -0.587785         0.809017          -0.258819   \n           3188972         0.994522         0.104528          -0.707107   \n           2306485         0.866025         0.500000          -0.500000   \n           4475154         0.978148        -0.207912          -0.866025   \n\n                    ARR_TIME_HOUR_cos  ARR_TIME_MIN_sin  ARR_TIME_MIN_cos  \\\nOP_CARRIER                                                                  \nAA         1389498          -0.965926          0.309017         -0.951057   \n           5204087          -0.965926          0.207912         -0.978148   \n           3188972           0.707107          0.951057          0.309017   \n           2306485          -0.866025         -0.104528          0.994522   \n           4475154           0.500000         -0.406737          0.913545   \n\n                    FL_MONTH_sin  FL_MONTH_cos  FL_DAY_sin  FL_DAY_cos  \nOP_CARRIER                                                              \nAA         1389498  1.000000e+00  6.123234e-17    0.394356    0.918958  \n           5204087 -8.660254e-01  5.000000e-01   -0.394356    0.918958  \n           3188972  1.224647e-16 -1.000000e+00   -0.998717   -0.050649  \n           2306485  5.000000e-01 -8.660254e-01    0.000000    1.000000  \n           4475154 -1.000000e+00 -1.836970e-16    0.651372   -0.758758  \n\n[5 rows x 48 columns]",
      "text/html": "<div>\n<style scoped>\n    .dataframe tbody tr th:only-of-type {\n        vertical-align: middle;\n    }\n\n    .dataframe tbody tr th {\n        vertical-align: top;\n    }\n\n    .dataframe thead th {\n        text-align: right;\n    }\n</style>\n<table border=\"1\" class=\"dataframe\">\n  <thead>\n    <tr style=\"text-align: right;\">\n      <th></th>\n      <th></th>\n      <th>OP_CARRIER</th>\n      <th>ORIGIN</th>\n      <th>DEST</th>\n      <th>DEP_DELAY</th>\n      <th>TAXI_OUT</th>\n      <th>TAXI_IN</th>\n      <th>ARR_DELAY</th>\n      <th>CANCELLED</th>\n      <th>DIVERTED</th>\n      <th>CRS_ELAPSED_TIME</th>\n      <th>...</th>\n      <th>CRS_ARR_MIN_sin</th>\n      <th>CRS_ARR_MIN_cos</th>\n      <th>ARR_TIME_HOUR_sin</th>\n      <th>ARR_TIME_HOUR_cos</th>\n      <th>ARR_TIME_MIN_sin</th>\n      <th>ARR_TIME_MIN_cos</th>\n      <th>FL_MONTH_sin</th>\n      <th>FL_MONTH_cos</th>\n      <th>FL_DAY_sin</th>\n      <th>FL_DAY_cos</th>\n    </tr>\n    <tr>\n      <th>OP_CARRIER</th>\n      <th></th>\n      <th></th>\n      <th></th>\n      <th></th>\n      <th></th>\n      <th></th>\n      <th></th>\n      <th></th>\n      <th></th>\n      <th></th>\n      <th></th>\n      <th></th>\n      <th></th>\n      <th></th>\n      <th></th>\n      <th></th>\n      <th></th>\n      <th></th>\n      <th></th>\n      <th></th>\n      <th></th>\n      <th></th>\n    </tr>\n  </thead>\n  <tbody>\n    <tr>\n      <th rowspan=\"5\" valign=\"top\">AA</th>\n      <th>1389498</th>\n      <td>AA</td>\n      <td>PHX</td>\n      <td>STL</td>\n      <td>-6.0</td>\n      <td>21.0</td>\n      <td>4.0</td>\n      <td>-17.0</td>\n      <td>0.0</td>\n      <td>0.0</td>\n      <td>178.0</td>\n      <td>...</td>\n      <td>-0.994522</td>\n      <td>-0.104528</td>\n      <td>-0.258819</td>\n      <td>-0.965926</td>\n      <td>0.309017</td>\n      <td>-0.951057</td>\n      <td>1.000000e+00</td>\n      <td>6.123234e-17</td>\n      <td>0.394356</td>\n      <td>0.918958</td>\n    </tr>\n    <tr>\n      <th>5204087</th>\n      <td>AA</td>\n      <td>CLT</td>\n      <td>DEN</td>\n      <td>-5.0</td>\n      <td>16.0</td>\n      <td>8.0</td>\n      <td>-26.0</td>\n      <td>0.0</td>\n      <td>0.0</td>\n      <td>235.0</td>\n      <td>...</td>\n      <td>-0.587785</td>\n      <td>0.809017</td>\n      <td>-0.258819</td>\n      <td>-0.965926</td>\n      <td>0.207912</td>\n      <td>-0.978148</td>\n      <td>-8.660254e-01</td>\n      <td>5.000000e-01</td>\n      <td>-0.394356</td>\n      <td>0.918958</td>\n    </tr>\n    <tr>\n      <th>3188972</th>\n      <td>AA</td>\n      <td>DFW</td>\n      <td>TUL</td>\n      <td>-6.0</td>\n      <td>16.0</td>\n      <td>4.0</td>\n      <td>-2.0</td>\n      <td>0.0</td>\n      <td>0.0</td>\n      <td>62.0</td>\n      <td>...</td>\n      <td>0.994522</td>\n      <td>0.104528</td>\n      <td>-0.707107</td>\n      <td>0.707107</td>\n      <td>0.951057</td>\n      <td>0.309017</td>\n      <td>1.224647e-16</td>\n      <td>-1.000000e+00</td>\n      <td>-0.998717</td>\n      <td>-0.050649</td>\n    </tr>\n    <tr>\n      <th>2306485</th>\n      <td>AA</td>\n      <td>DFW</td>\n      <td>ELP</td>\n      <td>50.0</td>\n      <td>23.0</td>\n      <td>3.0</td>\n      <td>49.0</td>\n      <td>0.0</td>\n      <td>0.0</td>\n      <td>105.0</td>\n      <td>...</td>\n      <td>0.866025</td>\n      <td>0.500000</td>\n      <td>-0.500000</td>\n      <td>-0.866025</td>\n      <td>-0.104528</td>\n      <td>0.994522</td>\n      <td>5.000000e-01</td>\n      <td>-8.660254e-01</td>\n      <td>0.000000</td>\n      <td>1.000000</td>\n    </tr>\n    <tr>\n      <th>4475154</th>\n      <td>AA</td>\n      <td>ALB</td>\n      <td>CLT</td>\n      <td>-7.0</td>\n      <td>9.0</td>\n      <td>5.0</td>\n      <td>-21.0</td>\n      <td>0.0</td>\n      <td>0.0</td>\n      <td>125.0</td>\n      <td>...</td>\n      <td>0.978148</td>\n      <td>-0.207912</td>\n      <td>-0.866025</td>\n      <td>0.500000</td>\n      <td>-0.406737</td>\n      <td>0.913545</td>\n      <td>-1.000000e+00</td>\n      <td>-1.836970e-16</td>\n      <td>0.651372</td>\n      <td>-0.758758</td>\n    </tr>\n  </tbody>\n</table>\n<p>5 rows × 48 columns</p>\n</div>"
     },
     "execution_count": 154,
     "metadata": {},
     "output_type": "execute_result"
    }
   ],
   "source": [
    "# drop FL_DATE,Cancellation code,op_Carrierflnum\n",
    "df = df.drop(columns=['FL_DATE', 'CANCELLATION_CODE', 'OP_CARRIER_FL_NUM'])\n",
    "print(df.shape)\n",
    "df.head()"
   ],
   "metadata": {
    "collapsed": false
   }
  },
  {
   "cell_type": "code",
   "execution_count": 155,
   "outputs": [],
   "source": [
    "from sklearn.preprocessing import LabelEncoder\n",
    "\n",
    "X = df.drop(columns=['DEP_DELAY'])\n",
    "y = df['DEP_DELAY']\n",
    "label_encoder_op_carrier = LabelEncoder()\n",
    "label_encoder_origin = LabelEncoder()\n",
    "label_encoder_dest = LabelEncoder()\n",
    "X['OP_CARRIER'] = label_encoder_op_carrier.fit_transform(X['OP_CARRIER'])\n",
    "X['ORIGIN'] = label_encoder_origin.fit_transform(X['ORIGIN'])\n",
    "X['DEST'] = label_encoder_dest.fit_transform(X['DEST'])"
   ],
   "metadata": {
    "collapsed": false
   }
  },
  {
   "cell_type": "code",
   "execution_count": 156,
   "outputs": [
    {
     "name": "stdout",
     "output_type": "stream",
     "text": [
      "                    OP_CARRIER  ORIGIN  DEST  TAXI_OUT  TAXI_IN  ARR_DELAY  \\\n",
      "OP_CARRIER                                                                   \n",
      "AA         1389498           0     236   289      21.0      4.0      -17.0   \n",
      "           5204087           0      66    82      16.0      8.0      -26.0   \n",
      "           3188972           0      83   302      16.0      4.0       -2.0   \n",
      "           2306485           0      83    96      23.0      3.0       49.0   \n",
      "           4475154           0      14    66       9.0      5.0      -21.0   \n",
      "...                        ...     ...   ...       ...      ...        ...   \n",
      "WN         1698267          11     280   265      13.0      4.0       35.0   \n",
      "           2300980          11     280   172      10.0      9.0       -4.0   \n",
      "           1271774          11       2    82       8.0      4.0       -9.0   \n",
      "           4429936          11      82   213      12.0      3.0       -8.0   \n",
      "           620344           11     236    89       7.0      6.0      -14.0   \n",
      "\n",
      "                    CANCELLED  DIVERTED  CRS_ELAPSED_TIME  \\\n",
      "OP_CARRIER                                                  \n",
      "AA         1389498        0.0       0.0             178.0   \n",
      "           5204087        0.0       0.0             235.0   \n",
      "           3188972        0.0       0.0              62.0   \n",
      "           2306485        0.0       0.0             105.0   \n",
      "           4475154        0.0       0.0             125.0   \n",
      "...                       ...       ...               ...   \n",
      "WN         1698267        0.0       0.0              75.0   \n",
      "           2300980        0.0       0.0              75.0   \n",
      "           1271774        0.0       0.0              75.0   \n",
      "           4429936        0.0       0.0             155.0   \n",
      "           620344         0.0       0.0             225.0   \n",
      "\n",
      "                    ACTUAL_ELAPSED_TIME  ...  CRS_ARR_MIN_sin  \\\n",
      "OP_CARRIER                               ...                    \n",
      "AA         1389498                167.0  ...    -9.945219e-01   \n",
      "           5204087                214.0  ...    -5.877853e-01   \n",
      "           3188972                 66.0  ...     9.945219e-01   \n",
      "           2306485                104.0  ...     8.660254e-01   \n",
      "           4475154                111.0  ...     9.781476e-01   \n",
      "...                                 ...  ...              ...   \n",
      "WN         1698267                 88.0  ...     5.000000e-01   \n",
      "           2300980                 73.0  ...    -5.000000e-01   \n",
      "           1271774                 68.0  ...     0.000000e+00   \n",
      "           4429936                146.0  ...     5.665539e-16   \n",
      "           620344                 205.0  ...     5.000000e-01   \n",
      "\n",
      "                    CRS_ARR_MIN_cos  ARR_TIME_HOUR_sin  ARR_TIME_HOUR_cos  \\\n",
      "OP_CARRIER                                                                  \n",
      "AA         1389498        -0.104528          -0.258819      -9.659258e-01   \n",
      "           5204087         0.809017          -0.258819      -9.659258e-01   \n",
      "           3188972         0.104528          -0.707107       7.071068e-01   \n",
      "           2306485         0.500000          -0.500000      -8.660254e-01   \n",
      "           4475154        -0.207912          -0.866025       5.000000e-01   \n",
      "...                             ...                ...                ...   \n",
      "WN         1698267        -0.866025           0.258819      -9.659258e-01   \n",
      "           2300980        -0.866025          -1.000000      -1.836970e-16   \n",
      "           1271774         1.000000           0.258819      -9.659258e-01   \n",
      "           4429936        -1.000000          -0.258819       9.659258e-01   \n",
      "           620344         -0.866025          -0.965926       2.588190e-01   \n",
      "\n",
      "                    ARR_TIME_MIN_sin  ARR_TIME_MIN_cos  FL_MONTH_sin  \\\n",
      "OP_CARRIER                                                             \n",
      "AA         1389498          0.309017         -0.951057  1.000000e+00   \n",
      "           5204087          0.207912         -0.978148 -8.660254e-01   \n",
      "           3188972          0.951057          0.309017  1.224647e-16   \n",
      "           2306485         -0.104528          0.994522  5.000000e-01   \n",
      "           4475154         -0.406737          0.913545 -1.000000e+00   \n",
      "...                              ...               ...           ...   \n",
      "WN         1698267          0.000000          1.000000  1.000000e+00   \n",
      "           2300980         -0.104528         -0.994522  8.660254e-01   \n",
      "           1271774         -0.809017          0.587785  8.660254e-01   \n",
      "           4429936          0.743145         -0.669131 -1.000000e+00   \n",
      "           620344           0.913545          0.406737  5.000000e-01   \n",
      "\n",
      "                    FL_MONTH_cos  FL_DAY_sin  FL_DAY_cos  \n",
      "OP_CARRIER                                                \n",
      "AA         1389498  6.123234e-17    0.394356    0.918958  \n",
      "           5204087  5.000000e-01   -0.394356    0.918958  \n",
      "           3188972 -1.000000e+00   -0.998717   -0.050649  \n",
      "           2306485 -8.660254e-01    0.000000    1.000000  \n",
      "           4475154 -1.836970e-16    0.651372   -0.758758  \n",
      "...                          ...         ...         ...  \n",
      "WN         1698267  6.123234e-17   -0.968077   -0.250653  \n",
      "           2300980 -5.000000e-01   -0.201299    0.979530  \n",
      "           1271774  5.000000e-01   -0.848644    0.528964  \n",
      "           4429936 -1.836970e-16    0.968077   -0.250653  \n",
      "           620344   8.660254e-01    0.790776   -0.612106  \n",
      "\n",
      "[836592 rows x 47 columns]\n"
     ]
    }
   ],
   "source": [
    "print(X)"
   ],
   "metadata": {
    "collapsed": false
   }
  },
  {
   "cell_type": "code",
   "execution_count": 206,
   "outputs": [],
   "source": [
    "import torch\n",
    "from sklearn.preprocessing import StandardScaler\n",
    "\n",
    "X_train, X_test, y_train, y_test = train_test_split(X, y, test_size=0.2, random_state=42)\n",
    "\n",
    "\n",
    "num_of_features = X_train.shape[1]\n",
    "num_of_epochs = 50\n",
    "learning_rate = 1e-6"
   ],
   "metadata": {
    "collapsed": false
   }
  },
  {
   "cell_type": "code",
   "execution_count": 207,
   "outputs": [
    {
     "name": "stdout",
     "output_type": "stream",
     "text": [
      "True\n",
      "False\n",
      "False\n"
     ]
    }
   ],
   "source": [
    "X_train.isnull().sum()\n",
    "# are there any nan values in the dataset\n",
    "print(X_train.isnull().values.any())\n",
    "# if there is any nan value, then fill it with 0\n",
    "X_train = X_train.fillna(0)\n",
    "X_test = X_test.fillna(0)\n",
    "print(X_train.isnull().values.any())\n",
    "print(y_train.isnull().values.any())\n"
   ],
   "metadata": {
    "collapsed": false
   }
  },
  {
   "cell_type": "code",
   "execution_count": 208,
   "outputs": [
    {
     "name": "stdout",
     "output_type": "stream",
     "text": [
      "Mean Absolute Error: 0.0017213985919974878\n",
      "Mean Squared Error: 5.820532058995866e-06\n",
      "R2 Score: 0.9999999969923459\n"
     ]
    }
   ],
   "source": [
    "#applying linear regression\n",
    "lr = LinearRegression()\n",
    "lr.fit(X_train, y_train)\n",
    "y_pred = lr.predict(X_test)\n",
    "print('Mean Absolute Error:', metrics.mean_absolute_error(y_test, y_pred))\n",
    "print('Mean Squared Error:', metrics.mean_squared_error(y_test, y_pred))\n",
    "print('R2 Score:', metrics.r2_score(y_test, y_pred))\n",
    "\n",
    "\n"
   ],
   "metadata": {
    "collapsed": false
   }
  },
  {
   "cell_type": "code",
   "execution_count": 209,
   "outputs": [
    {
     "name": "stdout",
     "output_type": "stream",
     "text": [
      "[50.99914176 -2.00067748 -2.99707404 ... -9.99844525  4.99982828\n",
      " -6.0008481 ]\n"
     ]
    }
   ],
   "source": [
    "print(y_pred)\n"
   ],
   "metadata": {
    "collapsed": false
   }
  },
  {
   "cell_type": "code",
   "execution_count": 210,
   "outputs": [
    {
     "name": "stdout",
     "output_type": "stream",
     "text": [
      "(669273, 47)\n",
      "(669273,)\n",
      "(167319, 47)\n",
      "(167319,)\n"
     ]
    }
   ],
   "source": [
    "print(X_train.shape)\n",
    "print(y_train.shape)\n",
    "print(X_test.shape)\n",
    "print(y_test.shape)"
   ],
   "metadata": {
    "collapsed": false
   }
  },
  {
   "cell_type": "code",
   "execution_count": 211,
   "outputs": [
    {
     "name": "stdout",
     "output_type": "stream",
     "text": [
      "Epoch [1/10], Loss: -0.0713, Batch Number: 20915\n",
      "Epoch [1/10], Loss: -0.0713\n",
      "Epoch [2/10], Loss: -0.0721, Batch Number: 20915\n",
      "Epoch [2/10], Loss: -0.0721\n",
      "Epoch [3/10], Loss: -0.0719, Batch Number: 20915\n",
      "Epoch [3/10], Loss: -0.0719\n",
      "Epoch [4/10], Loss: -0.0717, Batch Number: 20915\n",
      "Epoch [4/10], Loss: -0.0717\n",
      "Epoch [5/10], Loss: -0.0725, Batch Number: 20915\n",
      "Epoch [5/10], Loss: -0.0725\n",
      "Epoch [6/10], Loss: -0.0722, Batch Number: 20915\n",
      "Epoch [6/10], Loss: -0.0722\n",
      "Epoch [7/10], Loss: -0.0718, Batch Number: 20915\n",
      "Epoch [7/10], Loss: -0.0718\n",
      "Epoch [8/10], Loss: -0.0727, Batch Number: 20915\n",
      "Epoch [8/10], Loss: -0.0727\n",
      "Epoch [9/10], Loss: -0.0716, Batch Number: 20915\n",
      "Epoch [9/10], Loss: -0.0716\n",
      "Epoch [10/10], Loss: -0.0722, Batch Number: 20915\n",
      "Epoch [10/10], Loss: -0.0722\n",
      "fc1.weight: tensor([[ 0.0914,  0.0550, -0.1028, -0.1319, -0.0520, -0.0741, -0.0945,  0.0525,\n",
      "         -0.0992,  0.0152,  0.0143,  0.1183, -0.0762, -0.0769, -0.1334, -0.0050,\n",
      "         -0.0984,  0.1316, -0.0370,  0.0662, -0.0459, -0.0560, -0.0306,  0.1225,\n",
      "         -0.0192, -0.0356, -0.0863,  0.1122,  0.0737,  0.0887, -0.0202, -0.1208,\n",
      "          0.1098, -0.1321, -0.0265,  0.0135,  0.0104, -0.1244, -0.0567,  0.0508,\n",
      "         -0.0517, -0.0494,  0.1287,  0.0512,  0.0232,  0.0098,  0.1061],\n",
      "        [-0.1222,  0.1287, -0.0451, -0.0410, -0.0097, -0.0099,  0.0372, -0.0974,\n",
      "         -0.0335,  0.1029, -0.0340,  0.0162,  0.0743, -0.0783, -0.0008,  0.0935,\n",
      "         -0.0012, -0.0179, -0.0109, -0.0733, -0.0160, -0.1353, -0.1365,  0.0861,\n",
      "          0.0478,  0.1332,  0.1384, -0.0602,  0.1372, -0.0166,  0.1290, -0.1118,\n",
      "         -0.1438, -0.1299, -0.0768,  0.0092, -0.0518,  0.1345,  0.0013, -0.0544,\n",
      "          0.0800,  0.0911, -0.0844, -0.1327, -0.0293, -0.1401,  0.1116],\n",
      "        [-0.1355, -0.0675,  0.1221, -0.0553, -0.0075, -0.0248,  0.0829,  0.0944,\n",
      "         -0.0871, -0.0220, -0.0163, -0.1254, -0.0749,  0.0697, -0.0039,  0.0099,\n",
      "          0.0746, -0.0665, -0.0888,  0.0089, -0.0376, -0.0510, -0.0453,  0.1368,\n",
      "          0.1423, -0.0495, -0.1113, -0.1368, -0.1065,  0.0076,  0.1245, -0.0953,\n",
      "          0.1348, -0.0267, -0.0338, -0.0414,  0.0865, -0.0980, -0.1056, -0.0630,\n",
      "         -0.0251,  0.0315,  0.0646, -0.0700,  0.1137,  0.0567,  0.1033],\n",
      "        [-0.0348, -0.0912,  0.0961,  0.0193, -0.0177, -0.0890, -0.0609, -0.1070,\n",
      "          0.0471, -0.0852, -0.0214,  0.0585,  0.1046, -0.0267, -0.1285, -0.1230,\n",
      "          0.0827, -0.1259, -0.0036,  0.1440, -0.1393, -0.0899, -0.1256,  0.1297,\n",
      "          0.0049, -0.1373, -0.1188, -0.0577, -0.0992,  0.0957, -0.0500, -0.0381,\n",
      "          0.1456, -0.1104, -0.0448, -0.0654,  0.1296, -0.1269,  0.0110,  0.1096,\n",
      "         -0.0898,  0.0787,  0.0736, -0.1327, -0.0195, -0.1410,  0.1147],\n",
      "        [ 0.0178, -0.0531,  0.1385,  0.0456, -0.1129, -0.0190, -0.0873, -0.0232,\n",
      "         -0.0467, -0.0536, -0.1254, -0.0879,  0.0941,  0.0691,  0.1095,  0.1002,\n",
      "         -0.0897, -0.1355, -0.0819,  0.0094, -0.0891,  0.0358, -0.0195, -0.0260,\n",
      "         -0.0928, -0.0615, -0.0774,  0.1085,  0.0687,  0.0225,  0.0519,  0.1438,\n",
      "          0.1422, -0.1330,  0.0369,  0.0270,  0.0037, -0.0117,  0.0028, -0.1364,\n",
      "          0.0397, -0.1046, -0.0262, -0.1346,  0.0052, -0.1083, -0.0770],\n",
      "        [ 0.1325,  0.1456,  0.0483,  0.0008,  0.0796,  0.1144, -0.0696, -0.0582,\n",
      "          0.1072, -0.0230,  0.0129, -0.0640, -0.0264,  0.0251,  0.0661,  0.0056,\n",
      "          0.0363, -0.0388, -0.1075, -0.0036, -0.0631, -0.0120,  0.1068, -0.0298,\n",
      "         -0.1430,  0.0862, -0.0591,  0.0660, -0.1207, -0.0727, -0.0482, -0.0166,\n",
      "         -0.0410,  0.1243, -0.0526,  0.0342,  0.0501,  0.0998, -0.0756, -0.1239,\n",
      "          0.1437, -0.0534, -0.0517, -0.1119, -0.0578,  0.1092,  0.0021],\n",
      "        [ 0.1153, -0.1414, -0.0816,  0.0028,  0.0296, -0.0296,  0.1010,  0.1237,\n",
      "         -0.0412, -0.1097, -0.0905,  0.0890, -0.0902, -0.1037,  0.0931, -0.0374,\n",
      "          0.0108,  0.0803,  0.1277,  0.0435, -0.1326,  0.0227, -0.0437,  0.1251,\n",
      "          0.1368,  0.0639,  0.0368,  0.0499,  0.0718,  0.0188,  0.0497, -0.1390,\n",
      "          0.1442,  0.0730,  0.0708,  0.1008,  0.0843,  0.0296,  0.0704,  0.0804,\n",
      "          0.0752,  0.1321, -0.0397, -0.0794, -0.0215, -0.1322, -0.0340],\n",
      "        [-0.1354,  0.0800,  0.0295, -0.1149,  0.0366,  0.1146,  0.1156,  0.0112,\n",
      "          0.0739, -0.1444, -0.0089, -0.0842, -0.0986,  0.0621, -0.0937, -0.0620,\n",
      "          0.0859,  0.0948, -0.0601,  0.0912, -0.0857,  0.0420, -0.0857, -0.0844,\n",
      "          0.1319, -0.0212,  0.1442, -0.0888,  0.0301,  0.0645, -0.0591, -0.0204,\n",
      "          0.0101, -0.0653, -0.0234,  0.1140,  0.0113, -0.1236,  0.1369, -0.0519,\n",
      "         -0.1368, -0.0588,  0.1050, -0.1390, -0.0522, -0.0529,  0.0385],\n",
      "        [-0.0850, -0.1330,  0.0101, -0.1247,  0.1320, -0.0940,  0.0592,  0.0437,\n",
      "          0.1136,  0.1277, -0.0686,  0.0416,  0.0382,  0.1215,  0.0484,  0.0400,\n",
      "          0.1090, -0.1352,  0.0789,  0.0242, -0.0358, -0.0842,  0.0450,  0.0815,\n",
      "         -0.0566,  0.0848, -0.1350, -0.0956,  0.0784, -0.1203,  0.0293, -0.1274,\n",
      "         -0.0437,  0.1289,  0.0079, -0.0083,  0.1418,  0.0301,  0.0486,  0.0857,\n",
      "          0.0646, -0.0188, -0.1398, -0.1380,  0.0469, -0.0526,  0.0675],\n",
      "        [-0.1291, -0.0079,  0.0138,  0.0765, -0.0822,  0.0258, -0.0921,  0.0206,\n",
      "          0.0578, -0.0694,  0.0233, -0.0392, -0.0423,  0.1047, -0.0386,  0.0186,\n",
      "          0.0554,  0.0847, -0.0636, -0.0941,  0.0713, -0.0132, -0.0437,  0.1188,\n",
      "          0.0170,  0.1023, -0.0285, -0.0908, -0.0747,  0.1350, -0.0675,  0.1350,\n",
      "          0.0208, -0.1260, -0.0283,  0.1304,  0.0243, -0.0464, -0.0358,  0.1208,\n",
      "         -0.0239, -0.0684,  0.0878, -0.1205, -0.0586,  0.1429, -0.1450],\n",
      "        [-0.1202, -0.0895,  0.0328,  0.0282,  0.1006,  0.0899, -0.1061, -0.0348,\n",
      "         -0.1115, -0.0075, -0.1117, -0.0469,  0.1222, -0.0959,  0.0199,  0.0998,\n",
      "         -0.0832,  0.1240,  0.0760,  0.0061, -0.1299, -0.0965,  0.0491,  0.1164,\n",
      "         -0.1205,  0.0133,  0.0675,  0.1164,  0.0965, -0.0730,  0.1452, -0.0040,\n",
      "         -0.0186,  0.1166,  0.0200, -0.1040,  0.0634,  0.0728, -0.0850, -0.0027,\n",
      "          0.0309, -0.0511, -0.0270,  0.0088, -0.0459,  0.0802,  0.1290],\n",
      "        [-0.0375,  0.1118,  0.1268, -0.0254,  0.0844,  0.0610, -0.0397,  0.0428,\n",
      "         -0.1297, -0.0799,  0.0952, -0.0708, -0.0520,  0.0162, -0.0306, -0.0028,\n",
      "         -0.0099,  0.0236,  0.0518, -0.1115,  0.0210,  0.0010,  0.1165,  0.0986,\n",
      "          0.0669, -0.1004,  0.0456,  0.1442, -0.0810,  0.0516, -0.0144, -0.0659,\n",
      "          0.1172, -0.1415, -0.0611, -0.0740, -0.0120, -0.0073,  0.0298,  0.1381,\n",
      "         -0.0128,  0.0704, -0.0194, -0.0304, -0.1426,  0.1119, -0.0465],\n",
      "        [-0.0716, -0.1096,  0.0427,  0.1449,  0.0683, -0.1235,  0.0077,  0.0268,\n",
      "         -0.0337,  0.0953,  0.1433, -0.0253, -0.0923,  0.1225, -0.0950,  0.0493,\n",
      "          0.1404,  0.1274,  0.0836,  0.0869,  0.0854, -0.0114,  0.1097, -0.1164,\n",
      "         -0.1176,  0.0138,  0.0680, -0.0761,  0.0380,  0.0529,  0.0344,  0.0991,\n",
      "          0.0517,  0.1123, -0.0619, -0.1228,  0.0976,  0.0390,  0.1212, -0.0904,\n",
      "         -0.1282, -0.1358,  0.0932, -0.0022, -0.0332,  0.0562,  0.1396],\n",
      "        [-0.1275, -0.0384,  0.0838,  0.0115,  0.0632, -0.1366, -0.1185, -0.1225,\n",
      "          0.1256, -0.0335, -0.1369,  0.0229, -0.1146,  0.0817, -0.0411, -0.0491,\n",
      "          0.0926,  0.1342, -0.0598,  0.1098,  0.1089, -0.0486, -0.0202,  0.0919,\n",
      "         -0.0455,  0.1036, -0.0570, -0.0816,  0.0434,  0.0771,  0.0947,  0.0518,\n",
      "          0.0119, -0.0493, -0.0926,  0.0864,  0.1135,  0.1220, -0.0941, -0.0674,\n",
      "          0.0911, -0.0400, -0.1262, -0.0227, -0.0212, -0.1104,  0.0974],\n",
      "        [ 0.1163,  0.1143, -0.0484, -0.0311, -0.0342, -0.1306, -0.1400,  0.0103,\n",
      "          0.0696, -0.1145,  0.1271,  0.0081, -0.0284,  0.1011,  0.1362, -0.1302,\n",
      "         -0.1216,  0.1006, -0.0422,  0.1232,  0.1232, -0.0928, -0.1287,  0.1371,\n",
      "         -0.0811, -0.0418, -0.1149, -0.0981, -0.0585, -0.0649,  0.0784, -0.0073,\n",
      "         -0.0061,  0.1283,  0.0648, -0.0481,  0.0220, -0.0237, -0.0121, -0.0234,\n",
      "          0.0339, -0.0477, -0.0721, -0.0070, -0.1212,  0.1241,  0.0690],\n",
      "        [ 0.1229,  0.1086,  0.1003,  0.0823, -0.1449, -0.1447,  0.0884, -0.1144,\n",
      "         -0.0595,  0.1414,  0.1342, -0.1146, -0.0510, -0.1212, -0.0530,  0.0082,\n",
      "          0.1108, -0.1363,  0.0198, -0.0760, -0.0859,  0.1011,  0.1092,  0.0142,\n",
      "         -0.0786,  0.0337, -0.0218, -0.0178, -0.1409, -0.0023,  0.1184, -0.1039,\n",
      "          0.0113,  0.0339,  0.0415,  0.0575, -0.0150, -0.0678,  0.0109, -0.1172,\n",
      "         -0.0959, -0.0751, -0.0165,  0.0470, -0.0719, -0.0628, -0.0374]])\n",
      "fc1.bias: tensor([ 0.0038, -0.0013,  0.1108,  0.1152,  0.0854,  0.0160,  0.0158, -0.0583,\n",
      "         0.0973,  0.1311, -0.0110, -0.0675, -0.0250, -0.1156, -0.0101, -0.0748])\n",
      "fc2.weight: tensor([[ 0.1136, -0.0881, -0.2391,  0.0372, -0.1838, -0.2129, -0.0447, -0.2043,\n",
      "         -0.1352,  0.1509, -0.1232, -0.0029,  0.1052,  0.1389,  0.0165,  0.1529],\n",
      "        [-0.2242, -0.2402, -0.0907, -0.1747, -0.2176,  0.1367,  0.1037, -0.1043,\n",
      "         -0.0565,  0.0279,  0.0437, -0.0480, -0.0058, -0.0556,  0.1277,  0.1449],\n",
      "        [ 0.1479, -0.1422,  0.1600,  0.0891,  0.2477, -0.1192, -0.0939, -0.1840,\n",
      "         -0.1871,  0.2139, -0.1235, -0.0544,  0.1822, -0.0643,  0.0795,  0.0479],\n",
      "        [ 0.1229, -0.1143, -0.1532, -0.0728, -0.0731, -0.1740, -0.0932, -0.0327,\n",
      "         -0.2423, -0.1811, -0.1186,  0.0442, -0.2395, -0.0224,  0.1520,  0.2039]])\n",
      "fc2.bias: tensor([-0.2337,  0.1252,  0.1973,  0.1106])\n",
      "fc3.weight: tensor([[-0.3986,  0.1945,  0.4262,  0.1233]])\n",
      "fc3.bias: tensor([-0.4876])\n"
     ]
    },
    {
     "data": {
      "text/plain": "<Figure size 432x288 with 1 Axes>",
      "image/png": "[encoded data removed]"
     },
     "metadata": {
      "needs_background": "light"
     },
     "output_type": "display_data"
    }
   ],
   "source": [
    "import torch\n",
    "import torch.nn as nn\n",
    "import torch.optim as optim\n",
    "from torch.utils.data import TensorDataset, DataLoader\n",
    "\n",
    "# Assuming you have x_train and y_train as tensors\n",
    "# Make sure to load your actual dataset here\n",
    "\n",
    "# Define the neural network model\n",
    "class LinearRegressionModel(nn.Module):\n",
    "    def __init__(self, input_size):\n",
    "        super(LinearRegressionModel, self).__init__()\n",
    "        self.fc1 = nn.Linear(input_size, 16)\n",
    "        self.relu1 = nn.ReLU()\n",
    "        self.fc2 = nn.Linear(16, 4)\n",
    "        self.relu2 = nn.ReLU()\n",
    "        self.fc3 = nn.Linear(4, 1)\n",
    "\n",
    "    def forward(self, x):\n",
    "        x = self.relu1(self.fc1(x))\n",
    "        x = self.relu2(self.fc2(x))\n",
    "        x = self.fc3(x)\n",
    "        return x\n",
    "\n",
    "# Initialize the model\n",
    "model = LinearRegressionModel(47)\n",
    "\n",
    "# Define loss function and optimizer\n",
    "# use R2 loss function\n",
    "\n",
    "\n",
    "optimizer = optim.SGD(model.parameters(), lr=1e-2)  # Stochastic Gradient Descent\n",
    "\n",
    "# Prepare data using DataLoader\n",
    "batch_size = 32\n",
    "# chnage df X_train to numpy\n",
    "X_train = X_train.to_numpy()\n",
    "y_train = y_train.to_numpy()\n",
    "\n",
    "X_train = torch.from_numpy(X_train).float()\n",
    "y_train = torch.from_numpy(y_train).float()\n",
    "\n",
    "\n",
    "dataset = TensorDataset(X_train, y_train)\n",
    "dataloader = DataLoader(dataset, batch_size=batch_size, shuffle=True)\n",
    "\n",
    "# Training loop\n",
    "num_epochs = 10\n",
    "losses = []\n",
    "\n",
    "for epoch in range(num_epochs):\n",
    "    epoch_loss = 0.0\n",
    "\n",
    "    for batch_x, batch_y in dataloader:\n",
    "        # Forward pass\n",
    "        outputs = model(batch_x)\n",
    "\n",
    "        # Compute the loss using r2 loss function\n",
    "        loss = metrics.r2_score(batch_y, outputs.detach().numpy())\n",
    "        epoch_loss += loss.item()\n",
    "\n",
    "        # Backpropagation and optimization\n",
    "        optimizer.zero_grad()\n",
    "        # loss.backward()\n",
    "        optimizer.step()\n",
    "    #     print(loss,batch number and loss)\n",
    "    print(f'Epoch [{epoch + 1}/{num_epochs}], Loss: {epoch_loss / len(dataloader):.4f}, Batch Number: {len(dataloader)}')\n",
    "\n",
    "    # Append the average loss for this epoch to the list\n",
    "    losses.append(epoch_loss / len(dataloader))\n",
    "\n",
    "    # Print the loss at the end of each epoch\n",
    "    print(f'Epoch [{epoch + 1}/{num_epochs}], Loss: {losses[-1]:.4f}')\n",
    "\n",
    "# Print the final learned parameters\n",
    "for name, param in model.named_parameters():\n",
    "    if param.requires_grad:\n",
    "        print(f'{name}: {param.data}')\n",
    "\n",
    "# Optionally, plot the loss versus epoch\n",
    "import matplotlib.pyplot as plt\n",
    "plt.plot(range(1, num_epochs + 1), losses)\n",
    "plt.xlabel('Epoch')\n",
    "plt.ylabel('Loss')\n",
    "plt.title('Loss vs. Epoch')\n",
    "plt.grid(True)\n",
    "plt.show()\n"
   ],
   "metadata": {
    "collapsed": false
   }
  },
  {
   "cell_type": "code",
   "execution_count": 213,
   "outputs": [
    {
     "name": "stdout",
     "output_type": "stream",
     "text": [
      "Mean Absolute Error: 17.376799\n",
      "Mean Squared Error: 2011.6704\n",
      "R2 Score: -0.03949399378312446\n"
     ]
    }
   ],
   "source": [
    "# chnage df X_test to numpy and then to tensor\n",
    "X_test = X_test.to_numpy()\n",
    "y_test = y_test.to_numpy()\n",
    "X_test = torch.from_numpy(X_test).float()\n",
    "y_test = torch.from_numpy(y_test).float()\n",
    "y_pred = model(X_test)\n",
    "print('Mean Absolute Error:', metrics.mean_absolute_error(y_test, y_pred.detach().numpy()))\n",
    "print('Mean Squared Error:', metrics.mean_squared_error(y_test, y_pred.detach().numpy()))\n",
    "print('R2 Score:', metrics.r2_score(y_test, y_pred.detach().numpy()))\n",
    "\n"
   ],
   "metadata": {
    "collapsed": false
   }
  },
  {
   "cell_type": "code",
   "execution_count": null,
   "outputs": [],
   "source": [],
   "metadata": {
    "collapsed": false
   }
  }
 ],
 "metadata": {
  "kernelspec": {
   "display_name": "Python 3",
   "language": "python",
   "name": "python3"
  },
  "language_info": {
   "codemirror_mode": {
    "name": "ipython",
    "version": 2
   },
   "file_extension": ".py",
   "mimetype": "text/x-python",
   "name": "python",
   "nbconvert_exporter": "python",
   "pygments_lexer": "ipython2",
   "version": "2.7.6"
  }
 },
 "nbformat": 4,
 "nbformat_minor": 0
}
